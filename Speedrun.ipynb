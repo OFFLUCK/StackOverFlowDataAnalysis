{
 "cells": [
  {
   "cell_type": "code",
   "execution_count": 3,
   "metadata": {},
   "outputs": [],
   "source": [
    "links = ['https://www.speedrun.com/mc', 'https://www.speedrun.com/sm64', 'https://www.speedrun.com/robloxsr4', 'https://www.speedrun.com/hades', 'https://www.speedrun.com/ting', 'https://www.speedrun.com/bocwz', 'https://www.speedrun.com/portal', 'https://www.speedrun.com/smo',\n",
    "        'https://www.speedrun.com/mcbe', 'https://www.speedrun.com/celeste', 'https://www.speedrun.com/dl1', 'https://www.speedrun.com/redball1', 'https://www.speedrun.com/lol', 'https://www.speedrun.com/portal_2', 'https://www.speedrun.com/mk8dx', 'https://www.speedrun.com/goiwbf',\n",
    "        'https://www.speedrun.com/rl', 'https://www.speedrun.com/karlson_itch.io', 'https://www.speedrun.com/robloxtoh', 'https://www.speedrun.com/slitherio', 'https://www.speedrun.com/dead_by_daylight', 'https://www.speedrun.com/celeste_classic_2', 'https://www.speedrun.com/hollowknight', 'https://www.speedrun.com/smb1',\n",
    "        'https://www.speedrun.com/cclicker', 'https://www.speedrun.com/smw', 'https://www.speedrun.com/gtav', 'https://www.speedrun.com/hypixel_ag', 'https://www.speedrun.com/gs', 'https://www.speedrun.com/piggy', 'https://www.speedrun.com/re2remake', 'https://www.speedrun.com/outlast',\n",
    "        'https://www.speedrun.com/alttp', 'https://www.speedrun.com/botw', 'https://www.speedrun.com/sm3das', 'https://www.speedrun.com/dhs', 'https://www.speedrun.com/superliminal', 'https://www.speedrun.com/etdo', 'https://www.speedrun.com/choppy_orc', 'https://www.speedrun.com/overwatch',\n",
    "        'https://www.speedrun.com/sms', 'https://www.speedrun.com/r6_siege', 'https://www.speedrun.com/supermetroid', 'https://www.speedrun.com/titanfall_2', 'https://www.speedrun.com/wsr', 'https://www.speedrun.com/bhop_pro', 'https://www.speedrun.com/rblx_sr4c', 'https://www.speedrun.com/gtao',\n",
    "        'https://www.speedrun.com/spelunky2', 'https://www.speedrun.com/brawl_stars', 'https://www.speedrun.com/rerun', 'https://www.speedrun.com/bfbb', 'https://www.speedrun.com/jstris', 'https://www.speedrun.com/refunct', 'https://www.speedrun.com/thsc', 'https://www.speedrun.com/fishy1',\n",
    "        'https://www.speedrun.com/nsmbw', 'https://www.speedrun.com/cuphead', 'https://www.speedrun.com/katana_zero', 'https://www.speedrun.com/rec_room', 'https://www.speedrun.com/smbf', 'https://www.speedrun.com/jumpking', 'https://www.speedrun.com/ahit', 'https://www.speedrun.com/re3r',\n",
    "        'https://www.speedrun.com/lswtcs', 'https://www.speedrun.com/rbxose', 'https://www.speedrun.com/mc_icarus', 'https://www.speedrun.com/oot', 'https://www.speedrun.com/undertale', 'https://www.speedrun.com/mkw', 'https://www.speedrun.com/shar', 'https://www.speedrun.com/csgo',\n",
    "        'https://www.speedrun.com/snake_game', 'https://www.speedrun.com/bo3zombies', 'https://www.speedrun.com/tetris_web', 'https://www.speedrun.com/smb3', 'https://www.speedrun.com/the_forest', 'https://www.speedrun.com/celestep8', 'https://www.speedrun.com/darksouls3', 'https://www.speedrun.com/spyrortpc',\n",
    "        'https://www.speedrun.com/slime_rancher', 'https://www.speedrun.com/darksoulsremastered', 'https://www.speedrun.com/bhop_go', 'https://www.speedrun.com/ghostrunner', 'https://www.speedrun.com/dl2', 'https://www.speedrun.com/re7', 'https://www.speedrun.com/re2', 'https://www.speedrun.com/bugsnax',\n",
    "        'https://www.speedrun.com/terraria', 'https://www.speedrun.com/gmd', 'https://www.speedrun.com/agar.io', 'https://www.speedrun.com/redball4v1', 'https://www.speedrun.com/ror2', 'https://www.speedrun.com/cyberpunk_2077', 'https://www.speedrun.com/hl1', 'https://www.speedrun.com/geometry_dash_world',\n",
    "        'https://www.speedrun.com/goose', 'https://www.speedrun.com/coc', 'https://www.speedrun.com/destiny2', 'https://www.speedrun.com/scott_pilgrim_vs_the_world_the_game_complete_edition', 'https://www.speedrun.com/streets_of_rage_4', 'https://www.speedrun.com/robot64', 'https://www.speedrun.com/re4steam', 'https://www.speedrun.com/lm',\n",
    "        'https://www.speedrun.com/smb', 'https://www.speedrun.com/helltaker', 'https://www.speedrun.com/gbt', 'https://www.speedrun.com/phasmophobia', 'https://www.speedrun.com/supermonkeyball2', 'https://www.speedrun.com/the_messenger', 'https://www.speedrun.com/sadx', 'https://www.speedrun.com/crashnst',\n",
    "        'https://www.speedrun.com/spyro1', 'https://www.speedrun.com/factorio', 'https://www.speedrun.com/solitaire', 'https://www.speedrun.com/soul_knight', 'https://www.speedrun.com/pacify', 'https://www.speedrun.com/jak1', 'https://www.speedrun.com/apex_legends', 'https://www.speedrun.com/roblox_glass',\n",
    "        'https://www.speedrun.com/omori', 'https://www.speedrun.com/re3', 'https://www.speedrun.com/wiisports', 'https://www.speedrun.com/hff', 'https://www.speedrun.com/dkc', 'https://www.speedrun.com/residentevil', 'https://www.speedrun.com/wii_party', 'https://www.speedrun.com/minesweeper',\n",
    "        'https://www.speedrun.com/doom_unity', 'https://www.speedrun.com/pkmnswordshield', 'https://www.speedrun.com/dl3', 'https://www.speedrun.com/sa2b', 'https://www.speedrun.com/bk', 'https://www.speedrun.com/gtasa', 'https://www.speedrun.com/dyinglight', 'https://www.speedrun.com/gunfire_reborn',\n",
    "        'https://www.speedrun.com/gtavc', 'https://www.speedrun.com/sekiro', 'https://www.speedrun.com/chipndale', 'https://www.speedrun.com/brawlhalla', 'https://www.speedrun.com/hotline_miami', 'https://www.speedrun.com/enter_the_gungeon', 'https://www.speedrun.com/2048', 'https://www.speedrun.com/job_simulator',\n",
    "        'https://www.speedrun.com/re4console', 'https://www.speedrun.com/pkmnredblue', 'https://www.speedrun.com/smg2', 'https://www.speedrun.com/ctr', 'https://www.speedrun.com/subnautica', 'https://www.speedrun.com/helloneighbor', 'https://www.speedrun.com/smm2', 'https://www.speedrun.com/dmc5']\n",
    "# print(len(links))"
   ]
  },
  {
   "cell_type": "code",
   "execution_count": 4,
   "metadata": {},
   "outputs": [],
   "source": [
    "import requests\n",
    "from bs4 import BeautifulSoup\n",
    "\n",
    "\n",
    "# List of all russian moderators.\n",
    "rusum = []\n",
    "# List of games where there are russian moderators.\n",
    "ruingames = []\n",
    "# Dictionary key = game, value = list of russian moderators.\n",
    "rudict = dict()\n",
    "for i in range(0, len(links)):\n",
    "    r = requests.get(links[i])\n",
    "    page = BeautifulSoup(r.text, 'html.parser')\n",
    "    rs = []\n",
    "    # Getting game title.\n",
    "    title = str(page.find('title'))[7:len(str(page.find('title'))) - 23]\n",
    "#     print(title)\n",
    "    rudict[title] = []\n",
    "    for j in page.findAll('a'):\n",
    "        try:\n",
    "            if('user' in j['href']):\n",
    "                rs.append(j)\n",
    "        except:\n",
    "            continue\n",
    "    # Geting users links.\n",
    "    users = []\n",
    "    for j in rs:\n",
    "        users.append('https://www.speedrun.com' + j['href'])\n",
    "    ru = []\n",
    "    for j in range(0, len(users)):\n",
    "        ur = requests.get(users[j])\n",
    "        up = BeautifulSoup(ur.text, 'html.parser')\n",
    "        urs = up.findAll('span')\n",
    "        # Checking if user is russian.\n",
    "        for h in urs:\n",
    "            if('Russia' in str(h)):\n",
    "                ru.append(users[j])\n",
    "                rudict[title].append(users[j])\n",
    "    # Adding all russians.\n",
    "    rusum = rusum + ru\n",
    "    if(not(ru == [])):\n",
    "        ruingames.append(title)\n",
    "#     print(ru)\n",
    "# print(len(ruingames))\n",
    "# print(ruingames)\n",
    "# print(len(rusum))\n",
    "# print(rusum)\n",
    "# print(rudict)"
   ]
  },
  {
   "cell_type": "code",
   "execution_count": 5,
   "metadata": {},
   "outputs": [],
   "source": [
    "import pandas as pd\n",
    "\n",
    "\n",
    "# Getting usernames out of links.\n",
    "for i in rudict.keys():\n",
    "    rudict[i] = list(set(rudict[i]))\n",
    "    for j in range(0, len(rudict[i])):\n",
    "        rudict[i][j] = rudict[i][j].split('/')[-1]\n",
    "\n",
    "\n",
    "# Making dict with key = game, value = long line of users instead of list.\n",
    "rudictlines = dict()\n",
    "for i in rudict.keys():\n",
    "    if(rudict[i] == []):\n",
    "        rudictlines[i] = 'empty'\n",
    "        continue\n",
    "    rudictlines[i] = '; '.join(rudict[i])\n",
    "\n",
    "\n",
    "# Making dataframe and excel file.\n",
    "data = pd.DataFrame(rudictlines, index = [0])\n",
    "data = data.transpose()\n",
    "data.columns = ['List of russian moderators']\n",
    "data.to_excel('speedrun.xlsx')"
   ]
  },
  {
   "cell_type": "code",
   "execution_count": null,
   "metadata": {},
   "outputs": [],
   "source": []
  },
  {
   "cell_type": "code",
   "execution_count": null,
   "metadata": {},
   "outputs": [],
   "source": []
  },
  {
   "cell_type": "code",
   "execution_count": null,
   "metadata": {},
   "outputs": [],
   "source": []
  },
  {
   "cell_type": "code",
   "execution_count": null,
   "metadata": {},
   "outputs": [],
   "source": []
  }
 ],
 "metadata": {
  "kernelspec": {
   "display_name": "Python 3",
   "language": "python",
   "name": "python3"
  },
  "language_info": {
   "codemirror_mode": {
    "name": "ipython",
    "version": 3
   },
   "file_extension": ".py",
   "mimetype": "text/x-python",
   "name": "python",
   "nbconvert_exporter": "python",
   "pygments_lexer": "ipython3",
   "version": "3.8.3"
  }
 },
 "nbformat": 4,
 "nbformat_minor": 4
}
